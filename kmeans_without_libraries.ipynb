{
 "cells": [
  {
   "cell_type": "code",
   "execution_count": 1,
   "metadata": {},
   "outputs": [],
   "source": [
    "#Importing Required Libraries\n",
    "import numpy as np\n",
    "import matplotlib.pyplot as plt\n",
    "import math as m\n",
    "from sklearn.datasets import make_blobs #used to generate the data points"
   ]
  },
  {
   "cell_type": "code",
   "execution_count": 2,
   "metadata": {},
   "outputs": [],
   "source": [
    "class color:\n",
    "    PURPLE = '\\033[95m'\n",
    "    CYAN = '\\033[96m'\n",
    "    DARKCYAN = '\\033[36m'\n",
    "    BLUE = '\\033[94m'\n",
    "    GREEN = '\\033[92m'\n",
    "    YELLOW = '\\033[93m'\n",
    "    RED = '\\033[91m'\n",
    "    BOLD = '\\033[1m'\n",
    "    UNDERLNE = '\\033[4m'\n",
    "    END = '\\033[0m'"
   ]
  },
  {
   "cell_type": "code",
   "execution_count": 3,
   "metadata": {},
   "outputs": [],
   "source": [
    "def plot_data(X):\n",
    "    plt.figure(figsize=(7.5,6))\n",
    "    for i in range(len(X)):\n",
    "        plt.scatter(X[i][0],X[i][1],color='k')   "
   ]
  },
  {
   "cell_type": "code",
   "execution_count": 4,
   "metadata": {},
   "outputs": [],
   "source": [
    "#Initially assigns a random data points as centroids for the clusters\n",
    "def random_centroid(X,k):\n",
    "    #Creating k random indices and using the data point at that indices as centroid \n",
    "    random_idx=[np.random.randint(len(X)) for i in range(k)]\n",
    "    centroids=[]\n",
    "    for i in random_idx:\n",
    "        centroids.append(X[i])\n",
    "    return centroids"
   ]
  },
  {
   "cell_type": "code",
   "execution_count": 5,
   "metadata": {},
   "outputs": [],
   "source": [
    "#Determines which date point goes to which cluster\n",
    "def assign_cluster(X,ini_centroids,k):\n",
    "    cluster=[] #to store the data point's corresponding cluster number\n",
    "    #for every point in X\n",
    "    for i in range(len(X)):\n",
    "        euc_dist=[] # to store the distance between the centroid and data point\n",
    "        #Running k loops\n",
    "        for j in range(k):\n",
    "            euc_dist.append(np.linalg.norm(np.subtract(X[i],ini_centroids[j]))) #appending the distance into the array\n",
    "        idx=np.argmin(euc_dist) #returns the index where the value is minimum\n",
    "        cluster.append(idx) #appends the index to the cluster array\n",
    "    return np.asarray(cluster)"
   ]
  },
  {
   "cell_type": "code",
   "execution_count": 6,
   "metadata": {},
   "outputs": [],
   "source": [
    "#Returns the updated centroid\n",
    "def compute_centroid(X,clusters,k):\n",
    "    centroid = [] #stores the centroid values\n",
    "    for i in range(k):\n",
    "        temp_arr=[]\n",
    "        for j in range(len(X)):\n",
    "            #checking one cluster at once and storing the respective cluster data points in the temp_arr\n",
    "            if clusters[j]==i:\n",
    "                temp_arr.append(X[j])\n",
    "        #taking mean among those points and storing it in the centroid array\n",
    "        centroid.append(np.mean(temp_arr,axis=0))\n",
    "    return np.asarray(centroid)"
   ]
  },
  {
   "cell_type": "code",
   "execution_count": 7,
   "metadata": {},
   "outputs": [],
   "source": [
    "#Return the difference between the previous centroid and the newly computed centroid\n",
    "def difference(prev,nxt):\n",
    "    diff=0\n",
    "    for i in range(len(prev)):\n",
    "        diff+=np.linalg.norm(prev[i]-nxt[i])\n",
    "    return diff"
   ]
  },
  {
   "cell_type": "code",
   "execution_count": 8,
   "metadata": {},
   "outputs": [],
   "source": [
    "# Used to plot in each iteration\n",
    "def show_clusters(X,clusters,centroids,ini_centroids,mark_centroid=True,show_ini_centroid=True,show_plots=True):\n",
    "    #assigning specific color to each cluster. Assuming 3 for now\n",
    "    cols={0:'r',1:'b',2:'g',3:'coral',4:'c',5:'lime'}\n",
    "    fig,ax=plt.subplots(figsize=(7.5,6));\n",
    "    #plots every cluster points\n",
    "    for i in range(len(clusters)):\n",
    "        ax.scatter(X[i][0],X[i][1],color=cols[clusters[i]])\n",
    "    #plots all the centroids\n",
    "    for j in range(len(centroids)):\n",
    "        ax.scatter(centroids[j][0],centroids[j][1],marker='*',color=cols[j])\n",
    "        if show_ini_centroid==True:\n",
    "            ax.scatter(ini_centroids[j][0],ini_centroids[j][1],marker=\"+\",s=150,color=cols[j])\n",
    "    #used to mark the centroid by drawing a circle around it\n",
    "    if mark_centroid==True:\n",
    "        for i in range(len(centroids)):\n",
    "            ax.add_artist(plt.Circle((centroids[i][0],centroids[i][1]),0.4,linewidth=2,fill=False))\n",
    "            if show_ini_centroid==True:\n",
    "                ax.add_artist(plt.Circle((ini_centroids[i][0],ini_centroids[i][1]),0.4,linewidth=2,color='y',fill=False))\n",
    "    ax.set_xlabel(\"Feature 1\")\n",
    "    ax.set_ylabel(\"Feature 2\")\n",
    "    ax.set_title(\"K-means Clustering\")\n",
    "    if show_plots==True:\n",
    "        plt.show()"
   ]
  },
  {
   "cell_type": "code",
   "execution_count": 9,
   "metadata": {},
   "outputs": [],
   "source": [
    "\"\"\"\n",
    "Initial Centroid is marked with plus marker and yellow circle\n",
    "Final Centroid is marked with * marker and black circle\n",
    "\n",
    "\"\"\"\n",
    "#Used to perform k means clustering\n",
    "#if show type input is not given then it will show plot for each loop\n",
    "def k_means(X,k,show_type='all',show_plots=True):\n",
    "    c_prev=random_centroid(X,k)#initially assign a random centroid\n",
    "    cluster=assign_cluster(X,c_prev,k) #to store the cluster number of the data point\n",
    "    diff = 100 #assuming that the initial difference between the centroids is 100\n",
    "    ini_centroid = c_prev; #storing the initial centroid values\n",
    "    \n",
    "    print(color.BOLD+\"NOTE:\\n + and Yellow Circle -> Initial Centroid\\n * andBlack Circle -> Final Centroid\"+color.END)\n",
    "    \n",
    "    #stops if the difference is less than 0.001\n",
    "    if show_plots:\n",
    "        print(color.BOLD+\"\\n\\nInitial Plot:\\n\"+color.END)\n",
    "        show_clusters(X,cluster,c_prev,ini_centroid,show_plots=show_plots)\n",
    "    while diff>0.0001:\n",
    "        cluster = assign_cluster(X,c_prev,k) #assigns the data point to respective clusters\n",
    "        #plotting the initial graph\n",
    "        if show_type=='all' and show_plots:\n",
    "            show_clusters(X,cluster,c_prev,ini_centroid,False,False,show_plots=show_plots)\n",
    "            mark_centroid=False #Not to mark the centroids for other plots\n",
    "            show_ini_centroid=False #Not to mark the initail centroid for all\n",
    "        c_new = compute_centroid(X,cluster,k) # to compute the new centroid point\n",
    "        diff = difference(c_prev,c_new) #to compute the difference between the centroids\n",
    "        c_prev=c_new # now new centroid becomes current centroid point\n",
    "    \n",
    "    #Final cluster centers\n",
    "    if show_plots:\n",
    "        print(color.BOLD+\"\\nInitial Cluster Centers:\\n\"+color.END)\n",
    "        print(ini_centroid)\n",
    "        print(color.BOLD+\"\\nFinal Cluster Centers:\\n\"+color.END)\n",
    "        print(c_prev)\n",
    "        #Plotting the final plot\n",
    "        print(color.BOLD+\"\\n\\nFinal Plot:\\n\"+color.END) \n",
    "        show_clusters(X,cluster,c_prev,ini_centroid,mark_centroid=True,show_ini_centroid=True)    \n",
    "    return cluster,c_prev\n",
    "        "
   ]
  },
  {
   "cell_type": "code",
   "execution_count": 10,
   "metadata": {},
   "outputs": [],
   "source": [
    "def validate(original_clus,my_clus,k):\n",
    "    ori_grp=[]\n",
    "    my_grp=[]\n",
    "    for i in range(k):\n",
    "        temp=[]\n",
    "        temp1=[]\n",
    "        for j in range(len(my_clus)):\n",
    "            if my_clus[j]==i:\n",
    "                temp.append(j)\n",
    "            if original_clus[j]==i:\n",
    "                temp1.append(j)\n",
    "        my_grp.append(temp)\n",
    "        ori_grp.append(temp1)\n",
    "    same_bool=True\n",
    "    for f in range(len(ori_grp)):\n",
    "        if my_grp[f] not in ori_grp:\n",
    "            print(color.BOLD+\"Not Same\"+color.END)\n",
    "            same_bool=False\n",
    "            break;\n",
    "    if same_bool:\n",
    "        print(color.BOLD+\"Both the clusters are equal\"+color.END)"
   ]
  },
  {
   "cell_type": "code",
   "execution_count": 11,
   "metadata": {},
   "outputs": [],
   "source": [
    "k=3\n",
    "X,original_clus = make_blobs(n_samples=50, centers=3, n_features=2, random_state=20)\n",
    "#here 2nd output is the array of values indicating the data points' cluster group based on centers"
   ]
  },
  {
   "cell_type": "markdown",
   "metadata": {},
   "source": [
    "Why I used make_blobs?\n",
    "Since the second output from the make_blobs tells us which data point goes to which cluster (based on number of centers)"
   ]
  },
  {
   "cell_type": "code",
   "execution_count": 12,
   "metadata": {},
   "outputs": [
    {
     "data": {
      "image/png": "[encoded data removed]",
      "text/plain": [
       "<Figure size 540x432 with 1 Axes>"
      ]
     },
     "metadata": {
      "needs_background": "light"
     },
     "output_type": "display_data"
    }
   ],
   "source": [
    "plot_data(X)"
   ]
  },
  {
   "cell_type": "code",
   "execution_count": 13,
   "metadata": {
    "scrolled": false
   },
   "outputs": [
    {
     "name": "stdout",
     "output_type": "stream",
     "text": [
      "\u001b[1mNOTE:\n",
      " + and Yellow Circle -> Initial Centroid\n",
      " * andBlack Circle -> Final Centroid\u001b[0m\n",
      "\u001b[1m\n",
      "\n",
      "Initial Plot:\n",
      "\u001b[0m\n"
     ]
    },
    {
     "data": {
      "image/png": "[encoded data removed]",
      "text/plain": [
       "<Figure size 540x432 with 1 Axes>"
      ]
     },
     "metadata": {
      "needs_background": "light"
     },
     "output_type": "display_data"
    },
    {
     "name": "stdout",
     "output_type": "stream",
     "text": [
      "\u001b[1m\n",
      "Initial Cluster Centers:\n",
      "\u001b[0m\n",
      "[array([-9.68674231,  4.98407665]), array([8.32405183, 3.6123843 ]), array([8.47764867, 6.90996676])]\n",
      "\u001b[1m\n",
      "Final Cluster Centers:\n",
      "\u001b[0m\n",
      "[[-9.74449743  3.90580472]\n",
      " [ 8.12972553  6.31999593]\n",
      " [ 1.75170244  7.68208961]]\n",
      "\u001b[1m\n",
      "\n",
      "Final Plot:\n",
      "\u001b[0m\n"
     ]
    },
    {
     "data": {
      "image/png": "[encoded data removed]",
      "text/plain": [
       "<Figure size 540x432 with 1 Axes>"
      ]
     },
     "metadata": {
      "needs_background": "light"
     },
     "output_type": "display_data"
    }
   ],
   "source": [
    "#Final plot and the final cluster centres are at the end\n",
    "#by default show_type is set to 'all', to get only initial and final plot, set show_type to 'ini_fin'\n",
    "cluster,centroid = k_means(X,k,show_type='ini_fin')"
   ]
  },
  {
   "cell_type": "code",
   "execution_count": 14,
   "metadata": {
    "scrolled": true
   },
   "outputs": [
    {
     "name": "stdout",
     "output_type": "stream",
     "text": [
      "\u001b[1mBoth the clusters are equal\u001b[0m\n"
     ]
    }
   ],
   "source": [
    "validate(original_clus,cluster,k)"
   ]
  },
  {
   "cell_type": "markdown",
   "metadata": {},
   "source": [
    "#### VALIDATION"
   ]
  },
  {
   "cell_type": "code",
   "execution_count": 15,
   "metadata": {},
   "outputs": [],
   "source": [
    "from sklearn.cluster import KMeans\n",
    "km = KMeans(\n",
    "    n_clusters=3, init='random',\n",
    "    n_init=10, max_iter=300, \n",
    "    tol=1e-04, random_state=0\n",
    ")\n",
    "y_km = km.fit_predict(X)"
   ]
  },
  {
   "cell_type": "code",
   "execution_count": 16,
   "metadata": {},
   "outputs": [
    {
     "data": {
      "image/png": "[encoded data removed]",
      "text/plain": [
       "<Figure size 432x288 with 1 Axes>"
      ]
     },
     "metadata": {
      "needs_background": "light"
     },
     "output_type": "display_data"
    }
   ],
   "source": [
    "plt.scatter(X[y_km == 0, 0], X[y_km == 0, 1],c='blue')\n",
    "plt.scatter(X[y_km == 1, 0], X[y_km == 1, 1],c='red')\n",
    "plt.scatter(X[y_km == 2, 0], X[y_km == 2, 1],c='green')\n",
    "plt.show()"
   ]
  },
  {
   "cell_type": "code",
   "execution_count": 17,
   "metadata": {},
   "outputs": [
    {
     "data": {
      "image/png": "[encoded data removed]",
      "text/plain": [
       "<Figure size 432x288 with 1 Axes>"
      ]
     },
     "metadata": {
      "needs_background": "light"
     },
     "output_type": "display_data"
    }
   ],
   "source": [
    "sse = []\n",
    "k=range(1, 11)\n",
    "for i in k:\n",
    "    km = KMeans(\n",
    "        n_clusters=i, init='random',\n",
    "        n_init=10, max_iter=300,\n",
    "        tol=1e-04, random_state=0\n",
    "    )\n",
    "    km.fit(X)\n",
    "    sse.append(km.inertia_)\n",
    "plt.plot(k, sse, marker='o')\n",
    "plt.xlabel('Number of clusters')\n",
    "plt.ylabel('Sum of Squared Error')\n",
    "plt.show()"
   ]
  },
  {
   "cell_type": "code",
   "execution_count": null,
   "metadata": {},
   "outputs": [],
   "source": []
  }
 ],
 "metadata": {
  "kernelspec": {
   "display_name": "Python 3",
   "language": "python",
   "name": "python3"
  },
  "language_info": {
   "codemirror_mode": {
    "name": "ipython",
    "version": 3
   },
   "file_extension": ".py",
   "mimetype": "text/x-python",
   "name": "python",
   "nbconvert_exporter": "python",
   "pygments_lexer": "ipython3",
   "version": "3.7.4"
  }
 },
 "nbformat": 4,
 "nbformat_minor": 2
}
